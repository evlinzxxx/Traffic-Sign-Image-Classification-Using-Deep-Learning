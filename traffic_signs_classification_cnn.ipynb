{
  "cells": [
    {
      "cell_type": "markdown",
      "id": "6f2cca54",
      "metadata": {
        "papermill": {
          "duration": 0.025234,
          "end_time": "2024-08-07T18:39:34.731480",
          "exception": false,
          "start_time": "2024-08-07T18:39:34.706246",
          "status": "completed"
        },
        "tags": [],
        "id": "6f2cca54"
      },
      "source": [
        "# 1. Download and Imports"
      ]
    },
    {
      "cell_type": "code",
      "execution_count": 2,
      "id": "218b4468",
      "metadata": {
        "execution": {
          "iopub.execute_input": "2024-08-07T18:39:34.779006Z",
          "iopub.status.busy": "2024-08-07T18:39:34.778534Z",
          "iopub.status.idle": "2024-08-07T18:39:41.202870Z",
          "shell.execute_reply": "2024-08-07T18:39:41.202174Z"
        },
        "papermill": {
          "duration": 6.45085,
          "end_time": "2024-08-07T18:39:41.205271",
          "exception": false,
          "start_time": "2024-08-07T18:39:34.754421",
          "status": "completed"
        },
        "tags": [],
        "id": "218b4468"
      },
      "outputs": [],
      "source": [
        "# Fundamental classes\n",
        "import numpy as np\n",
        "import pandas as pd\n",
        "import tensorflow as tf\n",
        "import os\n",
        "\n",
        "# Image related\n",
        "import cv2\n",
        "from PIL import Image\n",
        "\n",
        "#Performance Plot\n",
        "from sklearn import metrics\n",
        "from sklearn.metrics import f1_score, accuracy_score,confusion_matrix,classification_report\n",
        "import matplotlib.pyplot as plt\n",
        "import seaborn as sns\n",
        "%matplotlib inline\n",
        "\n",
        "# For the model and it's training\n",
        "from sklearn.model_selection import train_test_split\n",
        "from tensorflow.keras.utils import to_categorical\n",
        "from tensorflow.keras.models import Sequential, load_model\n",
        "from tensorflow.keras.layers import Conv2D, MaxPool2D, Dense, Flatten, Dropout\n",
        "\n",
        "# Time\n",
        "import time\n",
        "import datetime"
      ]
    },
    {
      "cell_type": "markdown",
      "id": "7411dc23",
      "metadata": {
        "papermill": {
          "duration": 0.021975,
          "end_time": "2024-08-07T18:39:41.250113",
          "exception": false,
          "start_time": "2024-08-07T18:39:41.228138",
          "status": "completed"
        },
        "tags": [],
        "id": "7411dc23"
      },
      "source": [
        "# 2. Functions"
      ]
    },
    {
      "cell_type": "code",
      "execution_count": 3,
      "id": "1de71e20",
      "metadata": {
        "execution": {
          "iopub.execute_input": "2024-08-07T18:39:41.296327Z",
          "iopub.status.busy": "2024-08-07T18:39:41.296058Z",
          "iopub.status.idle": "2024-08-07T18:39:41.302423Z",
          "shell.execute_reply": "2024-08-07T18:39:41.301670Z"
        },
        "papermill": {
          "duration": 0.031774,
          "end_time": "2024-08-07T18:39:41.304201",
          "exception": false,
          "start_time": "2024-08-07T18:39:41.272427",
          "status": "completed"
        },
        "tags": [],
        "id": "1de71e20"
      },
      "outputs": [],
      "source": [
        "# date_time function\n",
        "\n",
        "def date_time(x):\n",
        "    if x==1:\n",
        "        return 'Timestamp: {:%Y-%m-%d %H:%M:%S}'.format(datetime.datetime.now())\n",
        "    if x==2:\n",
        "        return 'Timestamp: {:%Y-%b-%d %H:%M:%S}'.format(datetime.datetime.now())\n",
        "    if x==3:\n",
        "        return 'Date now: %s' % datetime.datetime.now()\n",
        "    if x==4:\n",
        "        return 'Date today: %s' % datetime.date.today()"
      ]
    },
    {
      "cell_type": "code",
      "execution_count": 4,
      "id": "976bfc6c",
      "metadata": {
        "execution": {
          "iopub.execute_input": "2024-08-07T18:39:41.350443Z",
          "iopub.status.busy": "2024-08-07T18:39:41.350169Z",
          "iopub.status.idle": "2024-08-07T18:39:41.362177Z",
          "shell.execute_reply": "2024-08-07T18:39:41.361442Z"
        },
        "papermill": {
          "duration": 0.037366,
          "end_time": "2024-08-07T18:39:41.364032",
          "exception": false,
          "start_time": "2024-08-07T18:39:41.326666",
          "status": "completed"
        },
        "tags": [],
        "id": "976bfc6c"
      },
      "outputs": [],
      "source": [
        "# Performance Plot\n",
        "\n",
        "def plot_performance(history=None, figure_directory=None, ylim_pad=[0, 0]):\n",
        "    xlabel = 'Epoch'\n",
        "    legends = ['Training', 'Validation']\n",
        "\n",
        "    plt.figure(figsize=(20, 5))\n",
        "\n",
        "    y1 = history.history['accuracy']\n",
        "    y2 = history.history['val_accuracy']\n",
        "\n",
        "    min_y = min(min(y1), min(y2))-ylim_pad[0]\n",
        "    max_y = max(max(y1), max(y2))+ylim_pad[0]\n",
        "\n",
        "\n",
        "    plt.subplot(121)\n",
        "\n",
        "    plt.plot(y1)\n",
        "    plt.plot(y2)\n",
        "\n",
        "    plt.title('Model Accuracy\\n'+date_time(1), fontsize=17)\n",
        "    plt.xlabel(xlabel, fontsize=15)\n",
        "    plt.ylabel('Accuracy', fontsize=15)\n",
        "    plt.ylim(min_y, max_y)\n",
        "    plt.legend(legends, loc='upper left')\n",
        "    plt.grid()\n",
        "\n",
        "    y1 = history.history['loss']\n",
        "    y2 = history.history['val_loss']\n",
        "\n",
        "    min_y = min(min(y1), min(y2))-ylim_pad[1]\n",
        "    max_y = max(max(y1), max(y2))+ylim_pad[1]\n",
        "\n",
        "\n",
        "    plt.subplot(122)\n",
        "\n",
        "    plt.plot(y1)\n",
        "    plt.plot(y2)\n",
        "\n",
        "    plt.title('Model Loss\\n'+date_time(1), fontsize=17)\n",
        "    plt.xlabel(xlabel, fontsize=15)\n",
        "    plt.ylabel('Loss', fontsize=15)\n",
        "    plt.ylim(min_y, max_y)\n",
        "    plt.legend(legends, loc='upper left')\n",
        "    plt.grid()\n",
        "    if figure_directory:\n",
        "        plt.savefig(figure_directory+\"/history\")\n",
        "\n",
        "    plt.show()"
      ]
    },
    {
      "cell_type": "markdown",
      "id": "e90bb984",
      "metadata": {
        "papermill": {
          "duration": 0.02208,
          "end_time": "2024-08-07T18:39:41.408316",
          "exception": false,
          "start_time": "2024-08-07T18:39:41.386236",
          "status": "completed"
        },
        "tags": [],
        "id": "e90bb984"
      },
      "source": [
        "# 3. Loading Dataset (Traffic Signs Images)"
      ]
    },
    {
      "cell_type": "code",
      "source": [
        "import kagglehub\n",
        "\n",
        "# Download latest version\n",
        "path = kagglehub.dataset_download(\"meowmeowmeowmeowmeow/gtsrb-german-traffic-sign\")\n",
        "\n",
        "print(\"Path to dataset files:\", path)"
      ],
      "metadata": {
        "colab": {
          "base_uri": "https://localhost:8080/"
        },
        "id": "2oU7wff-e7ts",
        "outputId": "81b6825d-cbe7-46a0-e440-e35e99918509"
      },
      "id": "2oU7wff-e7ts",
      "execution_count": 5,
      "outputs": [
        {
          "output_type": "stream",
          "name": "stdout",
          "text": [
            "Path to dataset files: /root/.cache/kagglehub/datasets/meowmeowmeowmeowmeow/gtsrb-german-traffic-sign/versions/1\n"
          ]
        }
      ]
    },
    {
      "cell_type": "code",
      "execution_count": 6,
      "id": "9ec034b5",
      "metadata": {
        "execution": {
          "iopub.execute_input": "2024-08-07T18:39:41.456692Z",
          "iopub.status.busy": "2024-08-07T18:39:41.456394Z",
          "iopub.status.idle": "2024-08-07T18:43:50.429664Z",
          "shell.execute_reply": "2024-08-07T18:43:50.428759Z"
        },
        "papermill": {
          "duration": 248.999302,
          "end_time": "2024-08-07T18:43:50.432222",
          "exception": false,
          "start_time": "2024-08-07T18:39:41.432920",
          "status": "completed"
        },
        "tags": [],
        "id": "9ec034b5"
      },
      "outputs": [],
      "source": [
        "# Setting variables for later use\n",
        "data = []\n",
        "labels = []\n",
        "classes = 43\n",
        "cur_path = os.getcwd()\n",
        "\n",
        "# Retrieving the images and their labels\n",
        "for i in range(classes):\n",
        "    path = os.path.join('../root/.cache/kagglehub/datasets/meowmeowmeowmeowmeow/gtsrb-german-traffic-sign/versions/1','train',str(i))\n",
        "    images = os.listdir(path)\n",
        "\n",
        "    for a in images:\n",
        "        try:\n",
        "            image = Image.open(path + '/'+ a)\n",
        "            image = image.resize((30,30))\n",
        "            image = np.array(image)\n",
        "            #sim = Image.fromarray(image)\n",
        "            data.append(image)\n",
        "            labels.append(i)\n",
        "        except:\n",
        "            print(\"Error loading image\")\n",
        "\n",
        "# Converting lists into numpy arrays\n",
        "data = np.array(data)\n",
        "labels = np.array(labels)"
      ]
    },
    {
      "cell_type": "markdown",
      "id": "90a7ca26",
      "metadata": {
        "papermill": {
          "duration": 0.021855,
          "end_time": "2024-08-07T18:43:50.477065",
          "exception": false,
          "start_time": "2024-08-07T18:43:50.455210",
          "status": "completed"
        },
        "tags": [],
        "id": "90a7ca26"
      },
      "source": [
        "# 4. Data Splitting and conversion"
      ]
    },
    {
      "cell_type": "code",
      "execution_count": 7,
      "id": "51071b0b",
      "metadata": {
        "execution": {
          "iopub.execute_input": "2024-08-07T18:43:50.522638Z",
          "iopub.status.busy": "2024-08-07T18:43:50.522007Z",
          "iopub.status.idle": "2024-08-07T18:43:50.568543Z",
          "shell.execute_reply": "2024-08-07T18:43:50.567804Z"
        },
        "papermill": {
          "duration": 0.071864,
          "end_time": "2024-08-07T18:43:50.570887",
          "exception": false,
          "start_time": "2024-08-07T18:43:50.499023",
          "status": "completed"
        },
        "tags": [],
        "colab": {
          "base_uri": "https://localhost:8080/"
        },
        "id": "51071b0b",
        "outputId": "f4113864-efe8-480b-b930-934c8842d804"
      },
      "outputs": [
        {
          "output_type": "stream",
          "name": "stdout",
          "text": [
            "(39209, 30, 30, 3) (39209,)\n",
            "(31367, 30, 30, 3) (7842, 30, 30, 3) (31367,) (7842,)\n"
          ]
        }
      ],
      "source": [
        "# Checking data shape\n",
        "print(data.shape, labels.shape)\n",
        "\n",
        "# Splitting training and testing dataset\n",
        "X_train, X_test, y_train, y_test = train_test_split(data, labels, test_size=0.2, random_state=42)\n",
        "\n",
        "# Displaying the shape after the split\n",
        "print(X_train.shape, X_test.shape, y_train.shape, y_test.shape)\n",
        "\n",
        "# Converting the labels into one hot encoding\n",
        "y_train = to_categorical(y_train, 43)\n",
        "y_test = to_categorical(y_test, 43)"
      ]
    },
    {
      "cell_type": "markdown",
      "id": "d3fd8985",
      "metadata": {
        "papermill": {
          "duration": 0.022244,
          "end_time": "2024-08-07T18:43:50.616140",
          "exception": false,
          "start_time": "2024-08-07T18:43:50.593896",
          "status": "completed"
        },
        "tags": [],
        "id": "d3fd8985"
      },
      "source": [
        "# 5. Creating and Compiling the Model"
      ]
    },
    {
      "cell_type": "code",
      "source": [
        "from tensorflow.keras.callbacks import Callback\n",
        "\n",
        "# Custom Callback to stop training at 96% accuracy\n",
        "class CustomCallback(Callback):\n",
        "    def on_epoch_end(self, epoch, logs=None):\n",
        "        if logs.get('accuracy') >= 0.96:\n",
        "            print(f\"\\nAccuracy has reached 96% at epoch {epoch+1}. Stopping training...\")\n",
        "            self.model.stop_training = True\n",
        "# Instantiate the callback\n",
        "accuracy_callback = CustomCallback()"
      ],
      "metadata": {
        "id": "16T2psrngcHw"
      },
      "id": "16T2psrngcHw",
      "execution_count": 8,
      "outputs": []
    },
    {
      "cell_type": "code",
      "execution_count": 9,
      "id": "ae6175d5",
      "metadata": {
        "execution": {
          "iopub.execute_input": "2024-08-07T18:43:50.662356Z",
          "iopub.status.busy": "2024-08-07T18:43:50.662115Z",
          "iopub.status.idle": "2024-08-07T18:43:53.404489Z",
          "shell.execute_reply": "2024-08-07T18:43:53.403663Z"
        },
        "papermill": {
          "duration": 2.767793,
          "end_time": "2024-08-07T18:43:53.406432",
          "exception": false,
          "start_time": "2024-08-07T18:43:50.638639",
          "status": "completed"
        },
        "tags": [],
        "colab": {
          "base_uri": "https://localhost:8080/",
          "height": 0
        },
        "id": "ae6175d5",
        "outputId": "ad962e3e-ebe3-4c61-dc71-585172e4252d"
      },
      "outputs": [
        {
          "output_type": "stream",
          "name": "stderr",
          "text": [
            "/usr/local/lib/python3.10/dist-packages/keras/src/layers/convolutional/base_conv.py:107: UserWarning: Do not pass an `input_shape`/`input_dim` argument to a layer. When using Sequential models, prefer using an `Input(shape)` object as the first layer in the model instead.\n",
            "  super().__init__(activity_regularizer=activity_regularizer, **kwargs)\n"
          ]
        },
        {
          "output_type": "display_data",
          "data": {
            "text/plain": [
              "\u001b[1mModel: \"sequential\"\u001b[0m\n"
            ],
            "text/html": [
              "<pre style=\"white-space:pre;overflow-x:auto;line-height:normal;font-family:Menlo,'DejaVu Sans Mono',consolas,'Courier New',monospace\"><span style=\"font-weight: bold\">Model: \"sequential\"</span>\n",
              "</pre>\n"
            ]
          },
          "metadata": {}
        },
        {
          "output_type": "display_data",
          "data": {
            "text/plain": [
              "┏━━━━━━━━━━━━━━━━━━━━━━━━━━━━━━━━━━━━━━┳━━━━━━━━━━━━━━━━━━━━━━━━━━━━━┳━━━━━━━━━━━━━━━━━┓\n",
              "┃\u001b[1m \u001b[0m\u001b[1mLayer (type)                        \u001b[0m\u001b[1m \u001b[0m┃\u001b[1m \u001b[0m\u001b[1mOutput Shape               \u001b[0m\u001b[1m \u001b[0m┃\u001b[1m \u001b[0m\u001b[1m        Param #\u001b[0m\u001b[1m \u001b[0m┃\n",
              "┡━━━━━━━━━━━━━━━━━━━━━━━━━━━━━━━━━━━━━━╇━━━━━━━━━━━━━━━━━━━━━━━━━━━━━╇━━━━━━━━━━━━━━━━━┩\n",
              "│ conv2d (\u001b[38;5;33mConv2D\u001b[0m)                      │ (\u001b[38;5;45mNone\u001b[0m, \u001b[38;5;34m26\u001b[0m, \u001b[38;5;34m26\u001b[0m, \u001b[38;5;34m32\u001b[0m)          │           \u001b[38;5;34m2,432\u001b[0m │\n",
              "├──────────────────────────────────────┼─────────────────────────────┼─────────────────┤\n",
              "│ conv2d_1 (\u001b[38;5;33mConv2D\u001b[0m)                    │ (\u001b[38;5;45mNone\u001b[0m, \u001b[38;5;34m22\u001b[0m, \u001b[38;5;34m22\u001b[0m, \u001b[38;5;34m64\u001b[0m)          │          \u001b[38;5;34m51,264\u001b[0m │\n",
              "├──────────────────────────────────────┼─────────────────────────────┼─────────────────┤\n",
              "│ max_pooling2d (\u001b[38;5;33mMaxPooling2D\u001b[0m)         │ (\u001b[38;5;45mNone\u001b[0m, \u001b[38;5;34m11\u001b[0m, \u001b[38;5;34m11\u001b[0m, \u001b[38;5;34m64\u001b[0m)          │               \u001b[38;5;34m0\u001b[0m │\n",
              "├──────────────────────────────────────┼─────────────────────────────┼─────────────────┤\n",
              "│ dropout (\u001b[38;5;33mDropout\u001b[0m)                    │ (\u001b[38;5;45mNone\u001b[0m, \u001b[38;5;34m11\u001b[0m, \u001b[38;5;34m11\u001b[0m, \u001b[38;5;34m64\u001b[0m)          │               \u001b[38;5;34m0\u001b[0m │\n",
              "├──────────────────────────────────────┼─────────────────────────────┼─────────────────┤\n",
              "│ conv2d_2 (\u001b[38;5;33mConv2D\u001b[0m)                    │ (\u001b[38;5;45mNone\u001b[0m, \u001b[38;5;34m9\u001b[0m, \u001b[38;5;34m9\u001b[0m, \u001b[38;5;34m128\u001b[0m)           │          \u001b[38;5;34m73,856\u001b[0m │\n",
              "├──────────────────────────────────────┼─────────────────────────────┼─────────────────┤\n",
              "│ conv2d_3 (\u001b[38;5;33mConv2D\u001b[0m)                    │ (\u001b[38;5;45mNone\u001b[0m, \u001b[38;5;34m7\u001b[0m, \u001b[38;5;34m7\u001b[0m, \u001b[38;5;34m256\u001b[0m)           │         \u001b[38;5;34m295,168\u001b[0m │\n",
              "├──────────────────────────────────────┼─────────────────────────────┼─────────────────┤\n",
              "│ max_pooling2d_1 (\u001b[38;5;33mMaxPooling2D\u001b[0m)       │ (\u001b[38;5;45mNone\u001b[0m, \u001b[38;5;34m3\u001b[0m, \u001b[38;5;34m3\u001b[0m, \u001b[38;5;34m256\u001b[0m)           │               \u001b[38;5;34m0\u001b[0m │\n",
              "├──────────────────────────────────────┼─────────────────────────────┼─────────────────┤\n",
              "│ dropout_1 (\u001b[38;5;33mDropout\u001b[0m)                  │ (\u001b[38;5;45mNone\u001b[0m, \u001b[38;5;34m3\u001b[0m, \u001b[38;5;34m3\u001b[0m, \u001b[38;5;34m256\u001b[0m)           │               \u001b[38;5;34m0\u001b[0m │\n",
              "├──────────────────────────────────────┼─────────────────────────────┼─────────────────┤\n",
              "│ flatten (\u001b[38;5;33mFlatten\u001b[0m)                    │ (\u001b[38;5;45mNone\u001b[0m, \u001b[38;5;34m2304\u001b[0m)                │               \u001b[38;5;34m0\u001b[0m │\n",
              "├──────────────────────────────────────┼─────────────────────────────┼─────────────────┤\n",
              "│ dense (\u001b[38;5;33mDense\u001b[0m)                        │ (\u001b[38;5;45mNone\u001b[0m, \u001b[38;5;34m512\u001b[0m)                 │       \u001b[38;5;34m1,180,160\u001b[0m │\n",
              "├──────────────────────────────────────┼─────────────────────────────┼─────────────────┤\n",
              "│ dropout_2 (\u001b[38;5;33mDropout\u001b[0m)                  │ (\u001b[38;5;45mNone\u001b[0m, \u001b[38;5;34m512\u001b[0m)                 │               \u001b[38;5;34m0\u001b[0m │\n",
              "├──────────────────────────────────────┼─────────────────────────────┼─────────────────┤\n",
              "│ dense_1 (\u001b[38;5;33mDense\u001b[0m)                      │ (\u001b[38;5;45mNone\u001b[0m, \u001b[38;5;34m43\u001b[0m)                  │          \u001b[38;5;34m22,059\u001b[0m │\n",
              "└──────────────────────────────────────┴─────────────────────────────┴─────────────────┘\n"
            ],
            "text/html": [
              "<pre style=\"white-space:pre;overflow-x:auto;line-height:normal;font-family:Menlo,'DejaVu Sans Mono',consolas,'Courier New',monospace\">┏━━━━━━━━━━━━━━━━━━━━━━━━━━━━━━━━━━━━━━┳━━━━━━━━━━━━━━━━━━━━━━━━━━━━━┳━━━━━━━━━━━━━━━━━┓\n",
              "┃<span style=\"font-weight: bold\"> Layer (type)                         </span>┃<span style=\"font-weight: bold\"> Output Shape                </span>┃<span style=\"font-weight: bold\">         Param # </span>┃\n",
              "┡━━━━━━━━━━━━━━━━━━━━━━━━━━━━━━━━━━━━━━╇━━━━━━━━━━━━━━━━━━━━━━━━━━━━━╇━━━━━━━━━━━━━━━━━┩\n",
              "│ conv2d (<span style=\"color: #0087ff; text-decoration-color: #0087ff\">Conv2D</span>)                      │ (<span style=\"color: #00d7ff; text-decoration-color: #00d7ff\">None</span>, <span style=\"color: #00af00; text-decoration-color: #00af00\">26</span>, <span style=\"color: #00af00; text-decoration-color: #00af00\">26</span>, <span style=\"color: #00af00; text-decoration-color: #00af00\">32</span>)          │           <span style=\"color: #00af00; text-decoration-color: #00af00\">2,432</span> │\n",
              "├──────────────────────────────────────┼─────────────────────────────┼─────────────────┤\n",
              "│ conv2d_1 (<span style=\"color: #0087ff; text-decoration-color: #0087ff\">Conv2D</span>)                    │ (<span style=\"color: #00d7ff; text-decoration-color: #00d7ff\">None</span>, <span style=\"color: #00af00; text-decoration-color: #00af00\">22</span>, <span style=\"color: #00af00; text-decoration-color: #00af00\">22</span>, <span style=\"color: #00af00; text-decoration-color: #00af00\">64</span>)          │          <span style=\"color: #00af00; text-decoration-color: #00af00\">51,264</span> │\n",
              "├──────────────────────────────────────┼─────────────────────────────┼─────────────────┤\n",
              "│ max_pooling2d (<span style=\"color: #0087ff; text-decoration-color: #0087ff\">MaxPooling2D</span>)         │ (<span style=\"color: #00d7ff; text-decoration-color: #00d7ff\">None</span>, <span style=\"color: #00af00; text-decoration-color: #00af00\">11</span>, <span style=\"color: #00af00; text-decoration-color: #00af00\">11</span>, <span style=\"color: #00af00; text-decoration-color: #00af00\">64</span>)          │               <span style=\"color: #00af00; text-decoration-color: #00af00\">0</span> │\n",
              "├──────────────────────────────────────┼─────────────────────────────┼─────────────────┤\n",
              "│ dropout (<span style=\"color: #0087ff; text-decoration-color: #0087ff\">Dropout</span>)                    │ (<span style=\"color: #00d7ff; text-decoration-color: #00d7ff\">None</span>, <span style=\"color: #00af00; text-decoration-color: #00af00\">11</span>, <span style=\"color: #00af00; text-decoration-color: #00af00\">11</span>, <span style=\"color: #00af00; text-decoration-color: #00af00\">64</span>)          │               <span style=\"color: #00af00; text-decoration-color: #00af00\">0</span> │\n",
              "├──────────────────────────────────────┼─────────────────────────────┼─────────────────┤\n",
              "│ conv2d_2 (<span style=\"color: #0087ff; text-decoration-color: #0087ff\">Conv2D</span>)                    │ (<span style=\"color: #00d7ff; text-decoration-color: #00d7ff\">None</span>, <span style=\"color: #00af00; text-decoration-color: #00af00\">9</span>, <span style=\"color: #00af00; text-decoration-color: #00af00\">9</span>, <span style=\"color: #00af00; text-decoration-color: #00af00\">128</span>)           │          <span style=\"color: #00af00; text-decoration-color: #00af00\">73,856</span> │\n",
              "├──────────────────────────────────────┼─────────────────────────────┼─────────────────┤\n",
              "│ conv2d_3 (<span style=\"color: #0087ff; text-decoration-color: #0087ff\">Conv2D</span>)                    │ (<span style=\"color: #00d7ff; text-decoration-color: #00d7ff\">None</span>, <span style=\"color: #00af00; text-decoration-color: #00af00\">7</span>, <span style=\"color: #00af00; text-decoration-color: #00af00\">7</span>, <span style=\"color: #00af00; text-decoration-color: #00af00\">256</span>)           │         <span style=\"color: #00af00; text-decoration-color: #00af00\">295,168</span> │\n",
              "├──────────────────────────────────────┼─────────────────────────────┼─────────────────┤\n",
              "│ max_pooling2d_1 (<span style=\"color: #0087ff; text-decoration-color: #0087ff\">MaxPooling2D</span>)       │ (<span style=\"color: #00d7ff; text-decoration-color: #00d7ff\">None</span>, <span style=\"color: #00af00; text-decoration-color: #00af00\">3</span>, <span style=\"color: #00af00; text-decoration-color: #00af00\">3</span>, <span style=\"color: #00af00; text-decoration-color: #00af00\">256</span>)           │               <span style=\"color: #00af00; text-decoration-color: #00af00\">0</span> │\n",
              "├──────────────────────────────────────┼─────────────────────────────┼─────────────────┤\n",
              "│ dropout_1 (<span style=\"color: #0087ff; text-decoration-color: #0087ff\">Dropout</span>)                  │ (<span style=\"color: #00d7ff; text-decoration-color: #00d7ff\">None</span>, <span style=\"color: #00af00; text-decoration-color: #00af00\">3</span>, <span style=\"color: #00af00; text-decoration-color: #00af00\">3</span>, <span style=\"color: #00af00; text-decoration-color: #00af00\">256</span>)           │               <span style=\"color: #00af00; text-decoration-color: #00af00\">0</span> │\n",
              "├──────────────────────────────────────┼─────────────────────────────┼─────────────────┤\n",
              "│ flatten (<span style=\"color: #0087ff; text-decoration-color: #0087ff\">Flatten</span>)                    │ (<span style=\"color: #00d7ff; text-decoration-color: #00d7ff\">None</span>, <span style=\"color: #00af00; text-decoration-color: #00af00\">2304</span>)                │               <span style=\"color: #00af00; text-decoration-color: #00af00\">0</span> │\n",
              "├──────────────────────────────────────┼─────────────────────────────┼─────────────────┤\n",
              "│ dense (<span style=\"color: #0087ff; text-decoration-color: #0087ff\">Dense</span>)                        │ (<span style=\"color: #00d7ff; text-decoration-color: #00d7ff\">None</span>, <span style=\"color: #00af00; text-decoration-color: #00af00\">512</span>)                 │       <span style=\"color: #00af00; text-decoration-color: #00af00\">1,180,160</span> │\n",
              "├──────────────────────────────────────┼─────────────────────────────┼─────────────────┤\n",
              "│ dropout_2 (<span style=\"color: #0087ff; text-decoration-color: #0087ff\">Dropout</span>)                  │ (<span style=\"color: #00d7ff; text-decoration-color: #00d7ff\">None</span>, <span style=\"color: #00af00; text-decoration-color: #00af00\">512</span>)                 │               <span style=\"color: #00af00; text-decoration-color: #00af00\">0</span> │\n",
              "├──────────────────────────────────────┼─────────────────────────────┼─────────────────┤\n",
              "│ dense_1 (<span style=\"color: #0087ff; text-decoration-color: #0087ff\">Dense</span>)                      │ (<span style=\"color: #00d7ff; text-decoration-color: #00d7ff\">None</span>, <span style=\"color: #00af00; text-decoration-color: #00af00\">43</span>)                  │          <span style=\"color: #00af00; text-decoration-color: #00af00\">22,059</span> │\n",
              "└──────────────────────────────────────┴─────────────────────────────┴─────────────────┘\n",
              "</pre>\n"
            ]
          },
          "metadata": {}
        },
        {
          "output_type": "display_data",
          "data": {
            "text/plain": [
              "\u001b[1m Total params: \u001b[0m\u001b[38;5;34m1,624,939\u001b[0m (6.20 MB)\n"
            ],
            "text/html": [
              "<pre style=\"white-space:pre;overflow-x:auto;line-height:normal;font-family:Menlo,'DejaVu Sans Mono',consolas,'Courier New',monospace\"><span style=\"font-weight: bold\"> Total params: </span><span style=\"color: #00af00; text-decoration-color: #00af00\">1,624,939</span> (6.20 MB)\n",
              "</pre>\n"
            ]
          },
          "metadata": {}
        },
        {
          "output_type": "display_data",
          "data": {
            "text/plain": [
              "\u001b[1m Trainable params: \u001b[0m\u001b[38;5;34m1,624,939\u001b[0m (6.20 MB)\n"
            ],
            "text/html": [
              "<pre style=\"white-space:pre;overflow-x:auto;line-height:normal;font-family:Menlo,'DejaVu Sans Mono',consolas,'Courier New',monospace\"><span style=\"font-weight: bold\"> Trainable params: </span><span style=\"color: #00af00; text-decoration-color: #00af00\">1,624,939</span> (6.20 MB)\n",
              "</pre>\n"
            ]
          },
          "metadata": {}
        },
        {
          "output_type": "display_data",
          "data": {
            "text/plain": [
              "\u001b[1m Non-trainable params: \u001b[0m\u001b[38;5;34m0\u001b[0m (0.00 B)\n"
            ],
            "text/html": [
              "<pre style=\"white-space:pre;overflow-x:auto;line-height:normal;font-family:Menlo,'DejaVu Sans Mono',consolas,'Courier New',monospace\"><span style=\"font-weight: bold\"> Non-trainable params: </span><span style=\"color: #00af00; text-decoration-color: #00af00\">0</span> (0.00 B)\n",
              "</pre>\n"
            ]
          },
          "metadata": {}
        }
      ],
      "source": [
        "# Building the model\n",
        "model = Sequential()\n",
        "model.add(Conv2D(filters=32, kernel_size=(5,5), activation='relu', input_shape=X_train.shape[1:]))\n",
        "model.add(Conv2D(filters=64, kernel_size=(5,5), activation='relu'))\n",
        "model.add(MaxPool2D(pool_size=(2, 2)))\n",
        "model.add(Dropout(rate=0.15))\n",
        "model.add(Conv2D(filters=128, kernel_size=(3, 3), activation='relu'))\n",
        "model.add(Conv2D(filters=256, kernel_size=(3, 3), activation='relu'))\n",
        "model.add(MaxPool2D(pool_size=(2, 2)))\n",
        "model.add(Dropout(rate=0.20))\n",
        "model.add(Flatten())\n",
        "model.add(Dense(512, activation='relu'))\n",
        "model.add(Dropout(rate=0.25))\n",
        "model.add(Dense(43, activation='softmax'))\n",
        "\n",
        "# Compilation of the model\n",
        "model.compile(loss='categorical_crossentropy', optimizer='adam', metrics=['accuracy'])\n",
        "\n",
        "#M odel display\n",
        "model.summary()"
      ]
    },
    {
      "cell_type": "markdown",
      "id": "85ae26fa",
      "metadata": {
        "papermill": {
          "duration": 0.022619,
          "end_time": "2024-08-07T18:43:53.452557",
          "exception": false,
          "start_time": "2024-08-07T18:43:53.429938",
          "status": "completed"
        },
        "tags": [],
        "id": "85ae26fa"
      },
      "source": [
        "# 6. Training the Model"
      ]
    },
    {
      "cell_type": "code",
      "execution_count": 10,
      "id": "fe8a9e0d",
      "metadata": {
        "execution": {
          "iopub.execute_input": "2024-08-07T18:43:53.499869Z",
          "iopub.status.busy": "2024-08-07T18:43:53.499252Z",
          "iopub.status.idle": "2024-08-07T18:45:12.430474Z",
          "shell.execute_reply": "2024-08-07T18:45:12.429790Z"
        },
        "papermill": {
          "duration": 78.957064,
          "end_time": "2024-08-07T18:45:12.432533",
          "exception": false,
          "start_time": "2024-08-07T18:43:53.475469",
          "status": "completed"
        },
        "tags": [],
        "colab": {
          "base_uri": "https://localhost:8080/"
        },
        "id": "fe8a9e0d",
        "outputId": "3e6a8717-a5e8-409a-9c4d-f08a8d04ff0a"
      },
      "outputs": [
        {
          "output_type": "stream",
          "name": "stdout",
          "text": [
            "Epoch 1/35\n",
            "\u001b[1m246/246\u001b[0m \u001b[32m━━━━━━━━━━━━━━━━━━━━\u001b[0m\u001b[37m\u001b[0m \u001b[1m254s\u001b[0m 1s/step - accuracy: 0.4570 - loss: 3.6166 - val_accuracy: 0.9348 - val_loss: 0.2777\n",
            "Epoch 2/35\n",
            "\u001b[1m246/246\u001b[0m \u001b[32m━━━━━━━━━━━━━━━━━━━━\u001b[0m\u001b[37m\u001b[0m \u001b[1m265s\u001b[0m 1s/step - accuracy: 0.9240 - loss: 0.3099 - val_accuracy: 0.9847 - val_loss: 0.0699\n",
            "Epoch 3/35\n",
            "\u001b[1m246/246\u001b[0m \u001b[32m━━━━━━━━━━━━━━━━━━━━\u001b[0m\u001b[37m\u001b[0m \u001b[1m0s\u001b[0m 939ms/step - accuracy: 0.9698 - loss: 0.1155\n",
            "Accuracy has reached 96% at epoch 3. Stopping training...\n",
            "\u001b[1m246/246\u001b[0m \u001b[32m━━━━━━━━━━━━━━━━━━━━\u001b[0m\u001b[37m\u001b[0m \u001b[1m253s\u001b[0m 998ms/step - accuracy: 0.9698 - loss: 0.1154 - val_accuracy: 0.9901 - val_loss: 0.0459\n"
          ]
        }
      ],
      "source": [
        "with tf.device('/GPU:0'):\n",
        "    epochs = 35\n",
        "    history1 = model.fit(\n",
        "        X_train,\n",
        "        y_train,\n",
        "        batch_size=128,\n",
        "        epochs=epochs,\n",
        "        validation_data=(X_test, y_test),\n",
        "        callbacks=[accuracy_callback]  # Include the custom callback here\n",
        "    )"
      ]
    },
    {
      "cell_type": "markdown",
      "id": "67ce5265",
      "metadata": {
        "papermill": {
          "duration": 0.528883,
          "end_time": "2024-08-07T18:45:13.470849",
          "exception": false,
          "start_time": "2024-08-07T18:45:12.941966",
          "status": "completed"
        },
        "tags": [],
        "id": "67ce5265"
      },
      "source": [
        "# 7. Visualizing the performance of the Model during Training Phase"
      ]
    },
    {
      "cell_type": "code",
      "execution_count": 15,
      "id": "db1a4027",
      "metadata": {
        "execution": {
          "iopub.execute_input": "2024-08-07T18:45:14.491781Z",
          "iopub.status.busy": "2024-08-07T18:45:14.491216Z",
          "iopub.status.idle": "2024-08-07T18:45:14.867649Z",
          "shell.execute_reply": "2024-08-07T18:45:14.866921Z"
        },
        "papermill": {
          "duration": 0.889695,
          "end_time": "2024-08-07T18:45:14.869739",
          "exception": false,
          "start_time": "2024-08-07T18:45:13.980044",
          "status": "completed"
        },
        "tags": [],
        "colab": {
          "base_uri": "https://localhost:8080/",
          "height": 523
        },
        "id": "db1a4027",
        "outputId": "af20c316-fcea-4e18-91e1-7a1ece4145e9"
      },
      "outputs": [
        {
          "output_type": "display_data",
          "data": {
            "text/plain": [
              "<Figure size 2000x500 with 2 Axes>"
            ],
            "image/png": "[encoded data removed]"
          },
          "metadata": {}
        }
      ],
      "source": [
        "plot_performance(history=history1)"
      ]
    },
    {
      "cell_type": "markdown",
      "id": "7b19e3fe",
      "metadata": {
        "papermill": {
          "duration": 0.519762,
          "end_time": "2024-08-07T18:45:15.903559",
          "exception": false,
          "start_time": "2024-08-07T18:45:15.383797",
          "status": "completed"
        },
        "tags": [],
        "id": "7b19e3fe"
      },
      "source": [
        "# 8. Loading Test Dataset and Evaluating the Model"
      ]
    },
    {
      "cell_type": "code",
      "execution_count": 16,
      "id": "75634f70",
      "metadata": {
        "execution": {
          "iopub.execute_input": "2024-08-07T18:45:16.928569Z",
          "iopub.status.busy": "2024-08-07T18:45:16.927727Z",
          "iopub.status.idle": "2024-08-07T18:47:05.834436Z",
          "shell.execute_reply": "2024-08-07T18:47:05.833701Z"
        },
        "papermill": {
          "duration": 109.420413,
          "end_time": "2024-08-07T18:47:05.836863",
          "exception": false,
          "start_time": "2024-08-07T18:45:16.416450",
          "status": "completed"
        },
        "tags": [],
        "id": "75634f70"
      },
      "outputs": [],
      "source": [
        "# testing accuracy on test dataset\n",
        "from sklearn.metrics import accuracy_score\n",
        "\n",
        "# Importing the test dataset\n",
        "y_test = pd.read_csv('/root/.cache/kagglehub/datasets/meowmeowmeowmeowmeow/gtsrb-german-traffic-sign/versions/1/Test.csv')\n",
        "\n",
        "labels = y_test[\"ClassId\"].values\n",
        "imgs = y_test[\"Path\"].values\n",
        "\n",
        "data=[]\n",
        "\n",
        "# Retreiving the images\n",
        "with tf.device('/GPU:0'):\n",
        "    for img in imgs:\n",
        "        image = Image.open('/root/.cache/kagglehub/datasets/meowmeowmeowmeowmeow/gtsrb-german-traffic-sign/versions/1/'+img)\n",
        "        image = image.resize([30, 30])\n",
        "        data.append(np.array(image))\n",
        "\n",
        "X_test=np.array(data)"
      ]
    },
    {
      "cell_type": "code",
      "execution_count": 17,
      "id": "050a3efd",
      "metadata": {
        "execution": {
          "iopub.execute_input": "2024-08-07T18:47:06.862959Z",
          "iopub.status.busy": "2024-08-07T18:47:06.862662Z",
          "iopub.status.idle": "2024-08-07T18:47:07.561469Z",
          "shell.execute_reply": "2024-08-07T18:47:07.560694Z"
        },
        "papermill": {
          "duration": 1.21816,
          "end_time": "2024-08-07T18:47:07.563487",
          "exception": false,
          "start_time": "2024-08-07T18:47:06.345327",
          "status": "completed"
        },
        "tags": [],
        "colab": {
          "base_uri": "https://localhost:8080/"
        },
        "id": "050a3efd",
        "outputId": "5ef5936e-8bde-4189-a2ea-0209eaed1424"
      },
      "outputs": [
        {
          "output_type": "stream",
          "name": "stdout",
          "text": [
            "\u001b[1m395/395\u001b[0m \u001b[32m━━━━━━━━━━━━━━━━━━━━\u001b[0m\u001b[37m\u001b[0m \u001b[1m32s\u001b[0m 82ms/step\n",
            "0.9587490102929533\n"
          ]
        }
      ],
      "source": [
        "with tf.device('/GPU:0'):\n",
        "    pred = np.argmax(model.predict(X_test), axis=-1)\n",
        "\n",
        "#Accuracy with the test data\n",
        "from sklearn.metrics import accuracy_score\n",
        "print(accuracy_score(labels, pred))"
      ]
    },
    {
      "cell_type": "markdown",
      "id": "88d1e75f",
      "metadata": {
        "papermill": {
          "duration": 0.512606,
          "end_time": "2024-08-07T18:47:08.584401",
          "exception": false,
          "start_time": "2024-08-07T18:47:08.071795",
          "status": "completed"
        },
        "tags": [],
        "id": "88d1e75f"
      },
      "source": [
        "# 9. Saving the Model"
      ]
    },
    {
      "cell_type": "code",
      "execution_count": 20,
      "id": "74b5eaee",
      "metadata": {
        "execution": {
          "iopub.execute_input": "2024-08-07T18:47:09.613565Z",
          "iopub.status.busy": "2024-08-07T18:47:09.613287Z",
          "iopub.status.idle": "2024-08-07T18:47:09.678314Z",
          "shell.execute_reply": "2024-08-07T18:47:09.677677Z"
        },
        "papermill": {
          "duration": 0.589136,
          "end_time": "2024-08-07T18:47:09.680352",
          "exception": false,
          "start_time": "2024-08-07T18:47:09.091216",
          "status": "completed"
        },
        "tags": [],
        "colab": {
          "base_uri": "https://localhost:8080/"
        },
        "id": "74b5eaee",
        "outputId": "c6e6fd97-abb6-4b84-be7d-6e1f4becef32"
      },
      "outputs": [
        {
          "output_type": "stream",
          "name": "stdout",
          "text": [
            "Saved artifact at 'traffic_classifier_savedmodel'. The following endpoints are available:\n",
            "\n",
            "* Endpoint 'serve'\n",
            "  args_0 (POSITIONAL_ONLY): TensorSpec(shape=(None, 30, 30, 3), dtype=tf.float32, name='keras_tensor')\n",
            "Output Type:\n",
            "  TensorSpec(shape=(None, 43), dtype=tf.float32, name=None)\n",
            "Captures:\n",
            "  137092438453136: TensorSpec(shape=(), dtype=tf.resource, name=None)\n",
            "  137092438448208: TensorSpec(shape=(), dtype=tf.resource, name=None)\n",
            "  137094997657024: TensorSpec(shape=(), dtype=tf.resource, name=None)\n",
            "  137092438457184: TensorSpec(shape=(), dtype=tf.resource, name=None)\n",
            "  137092438588256: TensorSpec(shape=(), dtype=tf.resource, name=None)\n",
            "  137092438586496: TensorSpec(shape=(), dtype=tf.resource, name=None)\n",
            "  137092438587200: TensorSpec(shape=(), dtype=tf.resource, name=None)\n",
            "  137092439002624: TensorSpec(shape=(), dtype=tf.resource, name=None)\n",
            "  137092439014944: TensorSpec(shape=(), dtype=tf.resource, name=None)\n",
            "  137092439011600: TensorSpec(shape=(), dtype=tf.resource, name=None)\n",
            "  137092439072384: TensorSpec(shape=(), dtype=tf.resource, name=None)\n",
            "  137092439067280: TensorSpec(shape=(), dtype=tf.resource, name=None)\n",
            "Model successfully saved in SavedModel format at 'traffic_classifier_savedmodel'.\n"
          ]
        }
      ],
      "source": [
        "# Save the model in SavedModel format\n",
        "model.export('traffic_classifier_savedmodel')\n",
        "print(\"Model successfully saved in SavedModel format at 'traffic_classifier_savedmodel'.\")"
      ]
    },
    {
      "cell_type": "code",
      "source": [
        "# Convert to TF-Lite format\n",
        "import tensorflow as tf\n",
        "\n",
        "converter = tf.lite.TFLiteConverter.from_saved_model('traffic_classifier_savedmodel')\n",
        "tflite_model = converter.convert()\n",
        "\n",
        "# Save the TFLite model\n",
        "with open('traffic_classifier.tflite', 'wb') as f:\n",
        "    f.write(tflite_model)\n",
        "print(\"Model successfully converted and saved as 'traffic_classifier.tflite'.\")"
      ],
      "metadata": {
        "colab": {
          "base_uri": "https://localhost:8080/"
        },
        "id": "sTkdy8gxuBcx",
        "outputId": "3ca4a245-c6e0-44de-8a9c-2733fa97628c"
      },
      "id": "sTkdy8gxuBcx",
      "execution_count": 21,
      "outputs": [
        {
          "output_type": "stream",
          "name": "stdout",
          "text": [
            "Model successfully converted and saved as 'traffic_classifier.tflite'.\n"
          ]
        }
      ]
    },
    {
      "cell_type": "code",
      "source": [
        "# Convert to TFJS format\n",
        "import tensorflowjs as tfjs\n",
        "\n",
        "tfjs_target_dir = 'traffic_classifier_tfjs'\n",
        "tfjs.converters.convert_tf_saved_model('traffic_classifier_savedmodel', tfjs_target_dir)\n",
        "print(f\"Model successfully saved in TFJS format at '{tfjs_target_dir}'.\")"
      ],
      "metadata": {
        "colab": {
          "base_uri": "https://localhost:8080/"
        },
        "id": "9vntUiNquFem",
        "outputId": "e2f0078a-a43b-4a57-f528-ea885f6822ca"
      },
      "id": "9vntUiNquFem",
      "execution_count": 22,
      "outputs": [
        {
          "output_type": "stream",
          "name": "stdout",
          "text": [
            "Model successfully saved in TFJS format at 'traffic_classifier_tfjs'.\n"
          ]
        }
      ]
    }
  ],
  "metadata": {
    "kaggle": {
      "accelerator": "none",
      "dataSources": [
        {
          "datasetId": 82373,
          "sourceId": 191501,
          "sourceType": "datasetVersion"
        }
      ],
      "dockerImageVersionId": 30191,
      "isGpuEnabled": false,
      "isInternetEnabled": true,
      "language": "python",
      "sourceType": "notebook"
    },
    "kernelspec": {
      "display_name": "Python 3",
      "language": "python",
      "name": "python3"
    },
    "language_info": {
      "codemirror_mode": {
        "name": "ipython",
        "version": 3
      },
      "file_extension": ".py",
      "mimetype": "text/x-python",
      "name": "python",
      "nbconvert_exporter": "python",
      "pygments_lexer": "ipython3",
      "version": "3.7.12"
    },
    "papermill": {
      "default_parameters": {},
      "duration": 467.668447,
      "end_time": "2024-08-07T18:47:13.266683",
      "environment_variables": {},
      "exception": null,
      "input_path": "__notebook__.ipynb",
      "output_path": "__notebook__.ipynb",
      "parameters": {},
      "start_time": "2024-08-07T18:39:25.598236",
      "version": "2.3.4"
    },
    "colab": {
      "provenance": [],
      "collapsed_sections": [
        "6f2cca54",
        "7411dc23",
        "e90bb984",
        "90a7ca26",
        "d3fd8985",
        "85ae26fa",
        "67ce5265"
      ]
    }
  },
  "nbformat": 4,
  "nbformat_minor": 5
}